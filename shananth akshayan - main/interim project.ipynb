{
 "cells": [
  {
   "cell_type": "code",
   "execution_count": 1,
   "id": "ddbd4b7e-c107-48f3-888a-8b4da2991ac1",
   "metadata": {},
   "outputs": [
    {
     "name": "stderr",
     "output_type": "stream",
     "text": [
      "Device set to use cpu\n",
      "C:\\Users\\ASUS\\.conda\\anaconda\\Lib\\site-packages\\transformers\\pipelines\\text_classification.py:106: UserWarning: `return_all_scores` is now deprecated,  if want a similar functionality use `top_k=None` instead of `return_all_scores=True` or `top_k=1` instead of `return_all_scores=False`.\n",
      "  warnings.warn(\n"
     ]
    },
    {
     "name": "stdout",
     "output_type": "stream",
     "text": [
      "\n",
      "Input Text: I’m feeling so happy and proud of my achievements!\n",
      "Detected Sentiment (sorted by confidence):\n",
      "Positive: 0.991\n",
      "Neutral: 0.007\n",
      "Negative: 0.001\n"
     ]
    },
    {
     "data": {
      "application/vnd.jupyter.widget-view+json": {
       "model_id": "0a7d491b02ab4ac39ef48b577428bfc8",
       "version_major": 2,
       "version_minor": 0
      },
      "text/plain": [
       "Text(value='I am so excited and a bit nervous about my new job!', description='Input:', layout=Layout(width='6…"
      ]
     },
     "metadata": {},
     "output_type": "display_data"
    },
    {
     "data": {
      "application/vnd.jupyter.widget-view+json": {
       "model_id": "cb2f047c2786464d850fabfe2b6cbc30",
       "version_major": 2,
       "version_minor": 0
      },
      "text/plain": [
       "Button(button_style='info', description='Detect Sentiment', style=ButtonStyle())"
      ]
     },
     "metadata": {},
     "output_type": "display_data"
    },
    {
     "data": {
      "application/vnd.jupyter.widget-view+json": {
       "model_id": "0291f3d533344bb088c792ace00c391a",
       "version_major": 2,
       "version_minor": 0
      },
      "text/plain": [
       "Output()"
      ]
     },
     "metadata": {},
     "output_type": "display_data"
    }
   ],
   "source": [
    "# Install required libraries\n",
    "!pip install -q transformers torch==2.6.0 ipywidgets --index-url https://download.pytorch.org/whl/cpu\n",
    "\n",
    "from transformers import AutoTokenizer, AutoModelForSequenceClassification, pipeline\n",
    "import ipywidgets as widgets\n",
    "from IPython.display import display, clear_output\n",
    "\n",
    "# Load sentiment analysis model\n",
    "model_name = \"cardiffnlp/twitter-roberta-base-sentiment\"\n",
    "\n",
    "tokenizer = AutoTokenizer.from_pretrained(model_name)\n",
    "model = AutoModelForSequenceClassification.from_pretrained(model_name)\n",
    "\n",
    "# Create sentiment pipeline\n",
    "sentiment_pipeline = pipeline(\n",
    "    \"text-classification\",\n",
    "    model=model,\n",
    "    tokenizer=tokenizer,\n",
    "    return_all_scores=True\n",
    ")\n",
    "\n",
    "# Define function to detect sentiment\n",
    "label_map = {\n",
    "    \"LABEL_0\": \"Negative\",\n",
    "    \"LABEL_1\": \"Neutral\",\n",
    "    \"LABEL_2\": \"Positive\"\n",
    "}\n",
    "\n",
    "def detect_sentiment(text):\n",
    "    if not text.strip():\n",
    "        print(\"⚠️ Please enter some text.\")\n",
    "        return\n",
    "\n",
    "    results = sentiment_pipeline(text)[0]\n",
    "    sorted_results = sorted(results, key=lambda x: x['score'], reverse=True)\n",
    "\n",
    "    print(f\"\\nInput Text: {text}\")\n",
    "    print(\"Detected Sentiment (sorted by confidence):\")\n",
    "    for result in sorted_results:\n",
    "        label = label_map.get(result['label'], result['label'])\n",
    "        print(f\"{label}: {result['score']:.3f}\")\n",
    "\n",
    "# Test run\n",
    "sample_text = \"I’m feeling so happy and proud of my achievements!\"\n",
    "detect_sentiment(sample_text)\n",
    "\n",
    "# Create interactive widgets\n",
    "text_box = widgets.Text(\n",
    "    value=\"I am so excited and a bit nervous about my new job!\",\n",
    "    placeholder='Type your text here...',\n",
    "    description='Input:',\n",
    "    layout=widgets.Layout(width='600px')\n",
    ")\n",
    "\n",
    "button = widgets.Button(\n",
    "    description=\"Detect Sentiment\",\n",
    "    button_style='info'\n",
    ")\n",
    "\n",
    "output = widgets.Output()\n",
    "\n",
    "def on_button_clicked(b):\n",
    "    with output:\n",
    "        clear_output()\n",
    "        detect_sentiment(text_box.value)\n",
    "\n",
    "button.on_click(on_button_clicked)\n",
    "\n",
    "# Display widgets\n",
    "display(text_box, button, output)\n"
   ]
  }
 ],
 "metadata": {
  "kernelspec": {
   "display_name": "Python 3 (ipykernel)",
   "language": "python",
   "name": "python3"
  },
  "language_info": {
   "codemirror_mode": {
    "name": "ipython",
    "version": 3
   },
   "file_extension": ".py",
   "mimetype": "text/x-python",
   "name": "python",
   "nbconvert_exporter": "python",
   "pygments_lexer": "ipython3",
   "version": "3.12.7"
  }
 },
 "nbformat": 4,
 "nbformat_minor": 5
}
